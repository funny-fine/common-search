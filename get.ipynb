{
 "cells": [
  {
   "cell_type": "code",
   "execution_count": 5,
   "id": "85373e20",
   "metadata": {},
   "outputs": [
    {
     "data": {
      "image/png": "[encoded data removed]",
      "text/plain": [
       "<Figure size 432x288 with 1 Axes>"
      ]
     },
     "metadata": {
      "needs_background": "light"
     },
     "output_type": "display_data"
    }
   ],
   "source": [
    "def cal_integral(x,y):\n",
    "    import scipy\n",
    "    from scipy.integrate import simps # 用于计算积分\n",
    " \n",
    "    integrals = []\n",
    "    for i in range(len(y)): # 计算梯形的面积，由于是累加，所以是切片\"i+1\"\n",
    "        integrals.append(scipy.integrate.trapz(y[:i + 1], x[:i + 1]))\n",
    "    \n",
    "    return integrals\n",
    "\n",
    "\n",
    "import matplotlib\n",
    "import matplotlib.pyplot as plt\n",
    "import numpy as np\n",
    "from numpy import trapz\n",
    "from sympy import *\n",
    "\n",
    "from scipy.integrate import quad\n",
    "#import scipy.integrate as integrate\n",
    "from scipy.interpolate import make_interp_spline\n",
    "matplotlib.rcParams['font.family'] = 'SimHei'\n",
    "matplotlib.rcParams['font.size'] = 10\n",
    "matplotlib.rcParams['axes.unicode_minus']=False\n",
    "x = np.array([0.4012,0.4279,0.4521,0.4739,0.4848,0.5102,0.5267,0.5389,0.5545,0.5950,0.6349,0.6656,0.6949,0.7412,0.7883])\n",
    "y = np.array([0.01, 0.04, 0.09, 0.18, 0.24, 0.45, 0.67,0.87,1.2,2.57,5.02,8.16,12.41,24.89,47.5])\n",
    "x_smooth = np.linspace(x.min(),x.max(),600) #300 represents number of points to make between T.min and T.max\n",
    " \n",
    "y_smooth = make_interp_spline(x,y)(x_smooth)\n",
    "fig = plt.figure()\n",
    "ax1 = fig.add_subplot(1,1, 1)\n",
    "ax1.set_title(\"二极管伏安特性曲线图像\")\n",
    "ax1.scatter(x,y)\n",
    "ax1.set_xlabel(\"电压/V\")\n",
    "ax1.set_ylabel(\"电流/mA\")\n",
    "ax1.plot(x_smooth,y_smooth)\n",
    "plt.plot(x_smooth,y_smooth)\n",
    "\n",
    "#plt.axvline(0, color='r',linestyle=':',label='初始')\n",
    "#plt.axvline(100,color='r', linestyle='-.',label='全部融化')\n",
    "#plt.axhline(23.6,linestyle='--',label='室温')\n",
    "#plt.legend(loc='upper right')\n",
    "plt.show()\n",
    "#t = symbols(\"t\")\n",
    "#print(integrate(t**2, (t, 1, 2))) \n"
   ]
  },
  {
   "cell_type": "code",
   "execution_count": 19,
   "id": "e2546ac3",
   "metadata": {},
   "outputs": [],
   "source": []
  },
  {
   "cell_type": "code",
   "execution_count": 12,
   "id": "74c95a4b",
   "metadata": {},
   "outputs": [
    {
     "data": {
      "image/png": "[encoded data removed]",
      "text/plain": [
       "<Figure size 432x288 with 1 Axes>"
      ]
     },
     "metadata": {
      "needs_background": "light"
     },
     "output_type": "display_data"
    }
   ],
   "source": [
    "import matplotlib\n",
    "import matplotlib.pyplot as plt\n",
    "import numpy as np\n",
    "from scipy.interpolate import make_interp_spline\n",
    "matplotlib.rcParams['font.family'] = 'SimHei'\n",
    "matplotlib.rcParams['font.size'] = 10\n",
    "matplotlib.rcParams['axes.unicode_minus']=False\n",
    "\n",
    "x = np.array([0,0.1112,0.2045,0.3098,0.4060,0.5044,0.6013,0.7023,0.8003,0.8973,0.9955,1.1171,1.2235])\n",
    "y = np.array([0,1.02,1.87,2.83,3.72,4.62,5.51,6.43,7.32,8.24,9.11,10.21,11.20])\n",
    "x_smooth = np.linspace(x.min(),x.max(),30) #300 represents number of points to make between T.min and T.max\n",
    "\n",
    "y_smooth = make_interp_spline(x,y)(x_smooth)\n",
    "fig = plt.figure()\n",
    "ax1 = fig.add_subplot(1,1,1)\n",
    "ax1.set_title(\"金属膜电阻伏安特性曲线图像\")\n",
    "ax1.scatter(x,y)\n",
    "ax1.set_xlabel(\"电压/V\")\n",
    "ax1.set_ylabel(\"电流/mA\")\n",
    "ax1.plot(x_smooth,y_smooth)\n",
    "plt.plot(x_smooth,y_smooth)\n",
    "ax = plt.gca()  # 获取当前图像的坐标轴信息\n",
    "\n",
    "plt.show()"
   ]
  },
  {
   "cell_type": "code",
   "execution_count": 4,
   "id": "e2ea450c",
   "metadata": {},
   "outputs": [
    {
     "name": "stdout",
     "output_type": "stream",
     "text": [
      "3.2.9\n",
      "range(0, 10)\n"
     ]
    }
   ],
   "source": [
    "import django\n",
    "print(django.get_version())\n",
    "from lxml import etree\n",
    "import requests\n",
    "print(range(10))"
   ]
  },
  {
   "cell_type": "code",
   "execution_count": 107,
   "id": "3f3ac339",
   "metadata": {},
   "outputs": [
    {
     "name": "stdout",
     "output_type": "stream",
     "text": [
      "{'_index': 'history', '_type': '_doc', '_id': '1', '_version': 2, '_seq_no': 1, '_primary_term': 1, 'found': True, '_source': {'time0': '12月7日 9时', 'txt': '普通搜索——搜索内容:办公室'}}\n",
      "{'_index': 'history', '_type': '_doc', '_id': '2', '_version': 1, '_seq_no': 2, '_primary_term': 1, 'found': True, '_source': {'time0': '12月7日 10时', 'txt': '普通搜索——搜索内容:学校办公室'}}\n",
      "{'_index': 'history', '_type': '_doc', '_id': '3', '_version': 3, '_seq_no': 5, '_primary_term': 1, 'found': True, '_source': {'time0': '12月7日 10时', 'txt': '普通搜索——搜索内容:信息调研'}}\n",
      "{'_index': 'history', '_type': '_doc', '_id': '4', '_version': 2, '_seq_no': 8, '_primary_term': 1, 'found': True, '_source': {'time0': '12月7日 10时', 'txt': '普通搜索——搜索内容:党委宣传部'}}\n",
      "{'_index': 'history', '_type': '_doc', '_id': '5', '_version': 2, '_seq_no': 9, '_primary_term': 1, 'found': True, '_source': {'time0': '12月7日 10时', 'txt': '普通搜索——搜索内容:财务工作'}}\n",
      "{'_index': 'history', '_type': '_doc', '_id': '6', '_version': 1, '_seq_no': 10, '_primary_term': 1, 'found': True, '_source': {'time0': '12月7日 11时', 'txt': '普通搜索——搜索内容:津南校区'}}\n",
      "{'_index': 'history', '_type': '_doc', '_id': '7', '_version': 2, '_seq_no': 12, '_primary_term': 1, 'found': True, '_source': {'time0': '12月7日 14时', 'txt': '普通搜索——搜索内容:工会委员会'}}\n",
      "{'_index': 'history', '_type': '_doc', '_id': '8', '_version': 1, '_seq_no': 13, '_primary_term': 1, 'found': True, '_source': {'time0': '12月7日 14时', 'txt': '普通搜索——搜索内容:工会委员会'}}\n",
      "{'_index': 'history', '_type': '_doc', '_id': '9', '_version': 2, '_seq_no': 15, '_primary_term': 1, 'found': True, '_source': {'time0': '12月7日 15时', 'txt': '普通搜索——搜索内容:*办公室*'}}\n",
      "{'_index': 'history', '_type': '_doc', '_id': '10', '_version': 1, '_seq_no': 16, '_primary_term': 1, 'found': True, '_source': {'time0': '12月7日 15时', 'txt': '普通搜索——搜索内容:孙骞'}}\n",
      "{'_index': 'history', '_type': '_doc', '_id': '11', '_version': 1, '_seq_no': 17, '_primary_term': 1, 'found': True, '_source': {'time0': '12月7日 15时', 'txt': '普通搜索——搜索内容:孙*'}}\n",
      "{'_index': 'history', '_type': '_doc', '_id': '12', '_version': 1, '_seq_no': 18, '_primary_term': 1, 'found': True, '_source': {'time0': '12月7日 15时', 'txt': '普通搜索——搜索内容:驻深圳办事处'}}\n",
      "{'_index': 'history', '_type': '_doc', '_id': '13', '_version': 1, '_seq_no': 19, '_primary_term': 1, 'found': True, '_source': {'time0': '12月7日 18时', 'txt': '普通搜索——搜索内容:开展教学信息化建设，包括智慧教学环境'}}\n",
      "{'_index': 'history', '_type': '_doc', '_id': '14', '_version': 12, '_seq_no': 31, '_primary_term': 1, 'found': True, '_source': {'time0': '12月7日 18时', 'txt': '普通搜索——搜索内容:教学信息化建设'}}\n",
      "{'_index': 'history', '_type': '_doc', '_id': '15', '_version': 1, '_seq_no': 32, '_primary_term': 1, 'found': True, '_source': {'time0': '12月7日 20时', 'txt': '普通搜索——搜索内容:负责本科实践教学工作'}}\n",
      "{'_index': 'history', '_type': '_doc', '_id': '16', '_version': 1, '_seq_no': 33, '_primary_term': 1, 'found': True, '_source': {'time0': '12月8日 8时', 'txt': '普通搜索——搜索内容:八里台'}}\n",
      "{'_index': 'history', '_type': '_doc', '_id': '17', '_version': 1, '_seq_no': 34, '_primary_term': 1, 'found': True, '_source': {'time0': '12月8日 9时', 'txt': '普通搜索——搜索内容:新闻中心'}}\n",
      "{'_index': 'history', '_type': '_doc', '_id': '18', '_version': 1, '_seq_no': 35, '_primary_term': 1, 'found': True, '_source': {'time0': '12月8日 9时', 'txt': '普通搜索——搜索内容:通识选修课管理和学习指导中心工作'}}\n",
      "{'_index': 'history', '_type': '_doc', '_id': '19', '_version': 1, '_seq_no': 38, '_primary_term': 1, 'found': True, '_source': {'time0': '12月8日 12时', 'txt': '普通搜索——搜索内容:根据学校的教育教学理念引领全校的本科教学改革和教学研究'}}\n",
      "{'_index': 'history', '_type': '_doc', '_id': '20', '_version': 2, '_seq_no': 37, '_primary_term': 1, 'found': True, '_source': {'time0': '12月8日 19时', 'txt': '普通搜索——搜索内容:*服务*'}}\n",
      "{'_index': 'history', '_type': '_doc', '_id': '21', '_version': 1, '_seq_no': 39, '_primary_term': 1, 'found': True, '_source': {'time0': '12月8日 19时', 'txt': '高级搜索—— 名称:闫彪, 部门:, 机构:, 其他:, 联系方式'}}\n",
      "{'_index': 'history', '_type': '_doc', '_id': '22', '_version': 1, '_seq_no': 40, '_primary_term': 1, 'found': True, '_source': {'time0': '12月8日 19时', 'txt': '高级搜索—— 名称:闫欣, 部门:, 机构:, 其他:, 联系方式'}}\n",
      "{'_index': 'history', '_type': '_doc', '_id': '23', '_version': 1, '_seq_no': 41, '_primary_term': 1, 'found': True, '_source': {'time0': '12月8日 19时', 'txt': '高级搜索—— 名称:闫欣, 部门:流动调配科, 机构:人事处, 其他:, 联系方式'}}\n",
      "{'_index': 'history', '_type': '_doc', '_id': '24', '_version': 1, '_seq_no': 42, '_primary_term': 1, 'found': True, '_source': {'time0': '12月8日 19时', 'txt': '普通搜索——搜索内容:*本科教学*'}}\n",
      "24\n"
     ]
    },
    {
     "name": "stderr",
     "output_type": "stream",
     "text": [
      "<ipython-input-107-1f2da0703a10>:8: DeprecationWarning: The 'body' parameter is deprecated for the 'search' API and will be removed in a future version. Instead use API parameters directly. See https://github.com/elastic/elasticsearch-py/issues/1698 for more information\n",
      "  res2 = es.search(index=\"history\", body=query,params=params)\n"
     ]
    }
   ],
   "source": [
    "import time\n",
    "t = time.localtime()\n",
    "#res = es.index(index=\"history\", document=i)\n",
    "#t.tm_year, t.tm_mon, t.tm_mday\n",
    "\n",
    "#es.indices.delete('history')\n",
    "query={\"query\" : {\"match_all\" : {}},\"size\":100}\n",
    "res2 = es.search(index=\"history\", body=query,params=params)\n",
    "for hi in range(1,len(res2['hits']['hits'])+1):\n",
    "    res = es.get(index=\"history\", id=hi)\n",
    "    print(res)\n",
    "print(len(res2['hits']['hits']))"
   ]
  },
  {
   "cell_type": "code",
   "execution_count": null,
   "id": "d24b1e98",
   "metadata": {},
   "outputs": [],
   "source": [
    "import chardet\n",
    "import urllib.request\n",
    "url2 = 'https://gh.nankai.edu.cn/2017/0608/c3120a67921/page.htm'\n",
    "r2 = requests.get(url2)\n",
    "r2.encoding = r2.apparent_encoding\n",
    "dom2 = etree.HTML(r2.text)\n",
    "xpath2='//div[@class=\"entry\"]//img/@src'\n",
    "ite2=dom2.xpath(xpath2)\n",
    "print(ite2)"
   ]
  },
  {
   "cell_type": "code",
   "execution_count": 155,
   "id": "600e08ce",
   "metadata": {},
   "outputs": [],
   "source": [
    "x=1\n",
    "for i in ite2:\n",
    "    i_url='https://gh.nankai.edu.cn'+i\n",
    "    img_i = requests.get(i_url)\n",
    "    with open('web_img/gh/'+str(x)+'.jpg','wb') as file:\n",
    "        file.write(img_i.content)\n",
    "    x+=1"
   ]
  },
  {
   "cell_type": "code",
   "execution_count": 67,
   "id": "60fb67e0",
   "metadata": {},
   "outputs": [
    {
     "name": "stdout",
     "output_type": "stream",
     "text": [
      "[<Element tr at 0x21afc7caa80>, <Element tr at 0x21afc7ca500>, <Element tr at 0x21afc7d8240>, <Element tr at 0x21afc7d82c0>, <Element tr at 0x21afc7d8280>, <Element tr at 0x21afc7d8300>, <Element tr at 0x21afc7d8340>, <Element tr at 0x21afc7d8380>, <Element tr at 0x21afc7d83c0>, <Element tr at 0x21afc7d8200>, <Element tr at 0x21afc7d8400>, <Element tr at 0x21afc7d8440>, <Element tr at 0x21afc7d8480>]\n"
     ]
    }
   ],
   "source": [
    "xpath_items2 = '//div[@class=\"paging_content\"]/table/tbody/tr'\n",
    "#/tr/td/div/p/img/@src\n",
    "#获取所有的文章标签\n",
    "items2 = dom2.xpath(xpath_items2)\n",
    "print(items2)"
   ]
  },
  {
   "cell_type": "code",
   "execution_count": 115,
   "id": "f49a387d",
   "metadata": {},
   "outputs": [
    {
     "name": "stdout",
     "output_type": "stream",
     "text": [
      "{'img': '/_upload/article/90/5b/886c90774144b612485e98e9e3bf/d09f78f4-9a10-43e3-b6a7-a5a0e88f2603.jpg', 'name': '李向阳', 'title': '党委宣传部部长、新闻中心主任', 'num': 1}\n",
      "{'img': '/_upload/article/90/5b/886c90774144b612485e98e9e3bf/a141028a-6804-404d-ac98-99056b3ee2fa.jpg', 'name': '马长虹', 'title': '党委宣传部副部长、新闻中心副主任', 'num': 2}\n",
      "{'img': '/_upload/article/90/5b/886c90774144b612485e98e9e3bf/9fd0eba3-a9aa-48aa-b4ff-52a5c979407e.png', 'name': '马长虹', 'title': '党委宣传部副部长、新闻中心副主任', 'num': 3}\n",
      "{'img': '/_upload/article/90/5b/886c90774144b612485e98e9e3bf/5792a8f0-fd67-4e35-b519-f407e2fae589.png', 'name': '肖光文', 'title': '党委宣传部副部长、校史研究室主任', 'num': 4}\n"
     ]
    }
   ],
   "source": [
    "data2=[]\n",
    "xpath_img='.//img/@src'\n",
    "xpath_name='./td[2]//strong'\n",
    "txt=['none','none']\n",
    "i=0\n",
    "for article in items2:\n",
    "    t = {}\n",
    "    img=article.xpath(xpath_img)\n",
    "    if img==[]:\n",
    "        continue\n",
    "    if len(img[0])<36:\n",
    "        continue\n",
    "    na0=article.xpath(xpath_name)\n",
    "    na0=na0[0].xpath(\"string(.)\")\n",
    "    if na0!='':\n",
    "        txt=na0.split()\n",
    "    i+=1\n",
    "    t['img']=img[0]\n",
    "    t['name']=txt[0]\n",
    "    t['title']=txt[1]\n",
    "    t['num']=i\n",
    "    data2.append(t)\n",
    "    \n",
    "for x in data2:\n",
    "    print(x)"
   ]
  },
  {
   "cell_type": "code",
   "execution_count": 118,
   "id": "0eb4e804",
   "metadata": {},
   "outputs": [],
   "source": [
    "for i in data2:\n",
    "    i_url='https://xcb.nankai.edu.cn'+i['img']\n",
    "    img_i = requests.get(i_url)\n",
    "    with open('web_img/'+str(i['num'])+'.jpg','wb') as file:\n",
    "        file.write(img_i.content)"
   ]
  },
  {
   "cell_type": "code",
   "execution_count": 1,
   "id": "c7ac16ba",
   "metadata": {},
   "outputs": [],
   "source": [
    "data21=[0,0,0,0]"
   ]
  },
  {
   "cell_type": "code",
   "execution_count": 3,
   "id": "7f51771b",
   "metadata": {},
   "outputs": [],
   "source": [
    "import codecs\n",
    "def make_html( data ):\n",
    "    with codecs.open('C:/Users/Lenovo/.spyder-py3/a_web/htmls/'+str(data['num'])+'.html','w','utf-8') as file:\n",
    "        msg='<!DOCTYPE html><html ><head><title>返回文档</title></head><body><center><b><font color=\"black\" size=\"6\">'\n",
    "        msg+=data['name']\n",
    "        msg+='</font></b><hr color=\"black\"><p><img src=\"/static/web_img'\n",
    "    \n",
    "        if data['img']=='none':\n",
    "            msg+='/nk.jpg'\n",
    "        else:\n",
    "            timg=data['img'].replace('C:/Users/Lenovo/web_img','')\n",
    "            msg+=timg\n",
    "        msg+='\" width=\"300\" height=\"350\"><p><font color=\"black\" size=\"5\">职务/办公地点：'\n",
    "        msg+=data['title']\n",
    "        msg+='<p>联系方式：'\n",
    "        for pho_i in data['phone']:\n",
    "            msg+=pho_i\n",
    "            msg+='  '\n",
    "        msg+='<p>所属机构：'\n",
    "        msg+=data['tot']\n",
    "        msg+='<p>其他信息：'\n",
    "        msg+=data['more']\n",
    "        msg+='<p></font><p></center></body></html>'\n",
    "        msg=str(msg)\n",
    "        file.write(msg)"
   ]
  },
  {
   "cell_type": "code",
   "execution_count": 5,
   "id": "6f184baa",
   "metadata": {},
   "outputs": [],
   "source": [
    "for i in range(1,134):\n",
    "    res = es.get(index=\"web1\", id=i)\n",
    "    data_i=res['_source']\n",
    "    make_html( data_i )\n",
    "    #print(data_i['num'])  #输出原始内容"
   ]
  },
  {
   "cell_type": "code",
   "execution_count": 124,
   "id": "8533fae7",
   "metadata": {},
   "outputs": [
    {
     "data": {
      "image/png": "[encoded data removed]",
      "text/plain": [
       "<PIL.JpegImagePlugin.JpegImageFile image mode=RGB size=176x264 at 0x1FF840A7C70>"
      ]
     },
     "execution_count": 124,
     "metadata": {},
     "output_type": "execute_result"
    }
   ],
   "source": [
    "from PIL import Image\n",
    "pa=data1[3]['img']\n",
    "Image.open(pa)"
   ]
  },
  {
   "cell_type": "code",
   "execution_count": 168,
   "id": "b8c4c80c",
   "metadata": {},
   "outputs": [],
   "source": [
    "import requests\n",
    "from lxml import etree\n",
    "url = 'https://std.nankai.edu.cn/884/list.htm'\n",
    "#获取和解析网页\n",
    "r = requests.get(url)\n",
    "r.encoding = r.apparent_encoding\n",
    "dom = etree.HTML(r.text)"
   ]
  },
  {
   "cell_type": "code",
   "execution_count": 171,
   "id": "e6357446",
   "metadata": {},
   "outputs": [
    {
     "name": "stdout",
     "output_type": "stream",
     "text": [
      "[<Element tr at 0x1ff84244fc0>, <Element tr at 0x1ff853c7140>, <Element tr at 0x1ff853c7e80>, <Element tr at 0x1ff853c7b00>, <Element tr at 0x1ff853c79c0>, <Element tr at 0x1ff853c7ac0>, <Element tr at 0x1ff853c7b40>, <Element tr at 0x1ff853c7a80>, <Element tr at 0x1ff853c7a40>, <Element tr at 0x1ff853c7480>, <Element tr at 0x1ff853f13c0>, <Element tr at 0x1ff853f1340>, <Element tr at 0x1ff853f1380>, <Element tr at 0x1ff853f12c0>, <Element tr at 0x1ff853f1540>, <Element tr at 0x1ff853f1400>, <Element tr at 0x1ff853f1ac0>, <Element tr at 0x1ff853f1a00>, <Element tr at 0x1ff853f19c0>, <Element tr at 0x1ff840dbb80>, <Element tr at 0x1ff840db4c0>, <Element tr at 0x1ff840db180>, <Element tr at 0x1ff8423cd80>, <Element tr at 0x1ff8423ce40>, <Element tr at 0x1ff853db600>, <Element tr at 0x1ff8423aec0>, <Element tr at 0x1ff841c28c0>, <Element tr at 0x1ff840d7fc0>, <Element tr at 0x1ff83e56b40>, <Element tr at 0x1ff84259640>, <Element tr at 0x1ff853d7c80>, <Element tr at 0x1ff853d7f80>, <Element tr at 0x1ff84243300>, <Element tr at 0x1ff84243040>, <Element tr at 0x1ff84243c00>, <Element tr at 0x1ff84243b00>, <Element tr at 0x1ff842434c0>]\n",
      "[<Element tr at 0x1ff853c7140>, <Element tr at 0x1ff853c7e80>, <Element tr at 0x1ff853c7b00>, <Element tr at 0x1ff853c79c0>, <Element tr at 0x1ff853c7ac0>, <Element tr at 0x1ff853c7b40>, <Element tr at 0x1ff853c7a80>, <Element tr at 0x1ff853c7a40>, <Element tr at 0x1ff853c7480>, <Element tr at 0x1ff853f13c0>, <Element tr at 0x1ff853f1340>, <Element tr at 0x1ff853f1380>, <Element tr at 0x1ff853f12c0>, <Element tr at 0x1ff853f1540>, <Element tr at 0x1ff853f1400>, <Element tr at 0x1ff853f1ac0>, <Element tr at 0x1ff853f1a00>, <Element tr at 0x1ff853f19c0>, <Element tr at 0x1ff840dbb80>, <Element tr at 0x1ff840db4c0>, <Element tr at 0x1ff840db180>, <Element tr at 0x1ff8423cd80>, <Element tr at 0x1ff8423ce40>, <Element tr at 0x1ff853db600>, <Element tr at 0x1ff8423aec0>, <Element tr at 0x1ff841c28c0>, <Element tr at 0x1ff840d7fc0>, <Element tr at 0x1ff83e56b40>, <Element tr at 0x1ff84259640>, <Element tr at 0x1ff853d7c80>, <Element tr at 0x1ff853d7f80>, <Element tr at 0x1ff84243300>, <Element tr at 0x1ff84243040>, <Element tr at 0x1ff84243c00>, <Element tr at 0x1ff84243b00>, <Element tr at 0x1ff842434c0>]\n"
     ]
    }
   ],
   "source": [
    "xpath_items = '//table[@class=\"MsoNormalTable\"]/tbody/tr'\n",
    "name_pa = './h4/a/text()'\n",
    "tit_pho_pa='./footer/a/text()'\n",
    "more_pa = './div//p//text()'\n",
    "herf = './h4/a/herf()'\n",
    "#获取所有的文章标签\n",
    "items = dom.xpath(xpath_items)\n",
    "print(items)\n",
    "items=items[1:len(items)]\n",
    "#url1=herf_items[3]\n",
    "#r1 = requests.get(url1)\n",
    "#r1.encoding = r1.apparent_encoding\n",
    "#dom1 = etree.HTML(r1.text)"
   ]
  },
  {
   "cell_type": "code",
   "execution_count": null,
   "id": "37370030",
   "metadata": {},
   "outputs": [],
   "source": [
    "for i in ite1:\n",
    "    i_url='https://rsc.nankai.edu.cn/'+i\n",
    "    img_i = requests.get(i_url)\n",
    "    with open('web_img/rsc/'+str(x)+'.jpg','wb') as file:\n",
    "        file.write(img_i.content)\n",
    "    x+=1"
   ]
  },
  {
   "cell_type": "code",
   "execution_count": 177,
   "id": "4a919edd",
   "metadata": {},
   "outputs": [
    {
     "name": "stdout",
     "output_type": "stream",
     "text": [
      "['姓名', '段华贵', '李建新', '冯惠涛', '冯国苹', '李学良', '李建新', '邹长亮', '赵斯达', '薄方', '戴建芳', '王佰全', '孙平川', '高兴斌', '焦舰', '武光军', '王菲', '马挺', '吝春红', '冯银厂', '康慧敏', '刘波', '张艳', '孙青林', '邓昌莉', '谢茂强', '李正丹', '刘晓光', '葛路', '杨爽', '田报春', '赵炜', '杜静静', '沈月全', '吕蕊', '刘斌', '张晓']\n",
      "37\n"
     ]
    }
   ],
   "source": [
    "xpath1='//table[@class=\"MsoNormalTable\"]/tbody/tr//td[@width=\"153\"]//text()'\n",
    "ite1=dom.xpath(xpath1)\n",
    "print(ite1)\n",
    "print(len(ite1))"
   ]
  },
  {
   "cell_type": "code",
   "execution_count": 183,
   "id": "9c9d10dc",
   "metadata": {},
   "outputs": [
    {
     "name": "stdout",
     "output_type": "stream",
     "text": [
      "{'name': '段华贵', 'more': '数学科学学院-院级科研管理人员', 'title': '主管科研院长', 'phone': ['23504072'], 'tot': '科学技术研究部', 'num': 98, 'img': 'none'}\n",
      "{'name': '李建新', 'more': '数学科学学院-院级科研管理人员', 'title': '科研干事', 'phone': ['23505930'], 'tot': '科学技术研究部', 'num': 99, 'img': 'none'}\n",
      "{'name': '冯惠涛', 'more': '陈省身数学研究所-院级科研管理人员', 'title': '主管科研院长', 'phone': ['23504471'], 'tot': '科学技术研究部', 'num': 100, 'img': 'none'}\n",
      "{'name': '冯国苹', 'more': '陈省身数学研究所-院级科研管理人员', 'title': '科研干事', 'phone': ['23501879'], 'tot': '科学技术研究部', 'num': 101, 'img': 'none'}\n",
      "{'name': '李学良', 'more': '组合数学中心-院级科研管理人员', 'title': '主管科研院长', 'phone': ['23506800'], 'tot': '科学技术研究部', 'num': 102, 'img': 'none'}\n",
      "{'name': '李建新', 'more': '组合数学中心-院级科研管理人员', 'title': '科研干事', 'phone': ['23505133'], 'tot': '科学技术研究部', 'num': 103, 'img': 'none'}\n",
      "{'name': '邹长亮', 'more': '统计与数据科学学院-院级科研管理人员', 'title': '主管科研院长', 'phone': ['23498233'], 'tot': '科学技术研究部', 'num': 104, 'img': 'none'}\n",
      "{'name': '赵斯达', 'more': '统计与数据科学学院-院级科研管理人员', 'title': '科研干事', 'phone': ['23503423'], 'tot': '科学技术研究部', 'num': 105, 'img': 'none'}\n",
      "{'name': '薄方', 'more': '物理科学学院-院级科研管理人员', 'title': '主管科研院长', 'phone': ['66229423'], 'tot': '科学技术研究部', 'num': 106, 'img': 'none'}\n",
      "{'name': '戴建芳', 'more': '物理科学学院-院级科研管理人员', 'title': '科研干事', 'phone': ['23508052'], 'tot': '科学技术研究部', 'num': 107, 'img': 'none'}\n",
      "{'name': '王佰全', 'more': '化学学院-院级科研管理人员', 'title': '主管科研院长', 'phone': ['23504781'], 'tot': '科学技术研究部', 'num': 108, 'img': 'none'}\n",
      "{'name': '孙平川', 'more': '化学学院-院级科研管理人员', 'title': '主管科研院长', 'phone': ['23508171'], 'tot': '科学技术研究部', 'num': 109, 'img': 'none'}\n",
      "{'name': '高兴斌', 'more': '化学学院-院级科研管理人员', 'title': '科研干事', 'phone': ['23501348'], 'tot': '科学技术研究部', 'num': 110, 'img': 'none'}\n",
      "{'name': '焦舰', 'more': '化学学院-院级科研管理人员', 'title': '科研干事', 'phone': ['23501348'], 'tot': '科学技术研究部', 'num': 111, 'img': 'none'}\n",
      "{'name': '武光军', 'more': '材料科学与工程学院-院级科研管理人员', 'title': '院长助理', 'phone': ['85358536'], 'tot': '科学技术研究部', 'num': 112, 'img': 'none'}\n",
      "{'name': '王菲', 'more': '材料科学与工程学院-院级科研管理人员', 'title': '科研干事', 'phone': ['85358394'], 'tot': '科学技术研究部', 'num': 113, 'img': 'none'}\n",
      "{'name': '马挺', 'more': '生命科学学院-院级科研管理人员', 'title': '主管科研院长', 'phone': ['23505967'], 'tot': '科学技术研究部', 'num': 114, 'img': 'none'}\n",
      "{'name': '吝春红', 'more': '生命科学学院-院级科研管理人员', 'title': '科研干事', 'phone': ['23502210'], 'tot': '科学技术研究部', 'num': 115, 'img': 'none'}\n",
      "{'name': '冯银厂', 'more': '环境科学与工程学院-院级科研管理人员', 'title': '主管科研院长', 'phone': ['23507962'], 'tot': '科学技术研究部', 'num': 116, 'img': 'none'}\n",
      "{'name': '康慧敏', 'more': '环境科学与工程学院-院级科研管理人员', 'title': '科研干事', 'phone': ['85358911'], 'tot': '科学技术研究部', 'num': 117, 'img': 'none'}\n",
      "{'name': '刘波', 'more': '电子信息与光学工程学院-院级科研管理人员', 'title': '主管科研院长', 'phone': ['23505979'], 'tot': '科学技术研究部', 'num': 118, 'img': 'none'}\n",
      "{'name': '张艳', 'more': '电子信息与光学工程学院-院级科研管理人员', 'title': '科研干事', 'phone': ['85358554'], 'tot': '科学技术研究部', 'num': 119, 'img': 'none'}\n",
      "{'name': '孙青林', 'more': '人工智能学院-院级科研管理人员', 'title': '主管科研院长', 'phone': ['23508547'], 'tot': '科学技术研究部', 'num': 120, 'img': 'none'}\n",
      "{'name': '邓昌莉', 'more': '人工智能学院-院级科研管理人员', 'title': '科研干事', 'phone': ['23504615'], 'tot': '科学技术研究部', 'num': 121, 'img': 'none'}\n",
      "{'name': '谢茂强', 'more': '软件学院-院级科研管理人员', 'title': '主管科研院长', 'phone': ['85358922'], 'tot': '科学技术研究部', 'num': 122, 'img': 'none'}\n",
      "{'name': '李正丹', 'more': '软件学院-院级科研管理人员', 'title': '科研干事', 'phone': ['19922573135'], 'tot': '科学技术研究部', 'num': 123, 'img': 'none'}\n",
      "{'name': '刘晓光', 'more': '计算机学院-院级科研管理人员', 'title': '主管科研院长', 'phone': ['23504780'], 'tot': '科学技术研究部', 'num': 124, 'img': 'none'}\n",
      "{'name': '葛路', 'more': '计算机学院-院级科研管理人员', 'title': '科研干事', 'phone': ['85358850'], 'tot': '科学技术研究部', 'num': 125, 'img': 'none'}\n",
      "{'name': '杨爽', 'more': '医学院-院级科研管理人员', 'title': '主管科研院长', 'phone': ['23504334'], 'tot': '科学技术研究部', 'num': 126, 'img': 'none'}\n",
      "{'name': '田报春', 'more': '医学院-院级科研管理人员', 'title': '科研干事', 'phone': ['23494031'], 'tot': '科学技术研究部', 'num': 127, 'img': 'none'}\n",
      "{'name': '赵炜', 'more': '药学院-院级科研管理人员', 'title': '主管科研院长', 'phone': ['85358083'], 'tot': '科学技术研究部', 'num': 128, 'img': 'none'}\n",
      "{'name': '杜静静', 'more': '药学院-院级科研管理人员', 'title': '科研干事', 'phone': ['23507760'], 'tot': '科学技术研究部', 'num': 129, 'img': 'none'}\n",
      "{'name': '沈月全', 'more': '药物化学生物学国家重点实验室-院级科研管理人员', 'title': '主管科研院长', 'phone': ['85358120'], 'tot': '科学技术研究部', 'num': 130, 'img': 'none'}\n",
      "{'name': '吕蕊', 'more': '药物化学生物学国家重点实验室-院级科研管理人员', 'title': '科研干事', 'phone': ['85358291'], 'tot': '科学技术研究部', 'num': 131, 'img': 'none'}\n",
      "{'name': '刘斌', 'more': '泰达生物技术研究院-院级科研管理人员', 'title': '主管科研院长', 'phone': ['66229578'], 'tot': '科学技术研究部', 'num': 132, 'img': 'none'}\n",
      "{'name': '张晓', 'more': '泰达生物技术研究院-院级科研管理人员', 'title': '科研干事', 'phone': ['66226584'], 'tot': '科学技术研究部', 'num': 133, 'img': 'none'}\n",
      "36\n"
     ]
    }
   ],
   "source": [
    "#xpath_items = '//div[@class=\"wp_entry\"]/div/div/table//tr'\n",
    "#items = dom1.xpath(xpath_items)\n",
    "xpath_name= './/td[@width=\"153\"]//text()'\n",
    "xpath_title= './/td[@width=\"204\"]//text()'\n",
    "xpath_pho ='.//td[@width=\"180\"]//text()'\n",
    "x_more ='.//td[@width=\"239\"]//text()'\n",
    "#more_pa = './div//p//text()'\n",
    "#分别对每一个文章标签进行操作 将每篇文章的链接 标题 评论数 点赞数放到一个字典里\n",
    "data1 = []\n",
    "i=1\n",
    "past_title='none'\n",
    "tname='none'\n",
    "past_pho='none'\n",
    "past_more = 'none'\n",
    "for article in items:\n",
    "    t = {}\n",
    "    name=article.xpath(xpath_name)\n",
    "    if name!=[]:\n",
    "        tname=''.join(name[0].split())\n",
    "    else:\n",
    "        tname='none'\n",
    "    t['name'] = tname\n",
    "    \n",
    "    pho=past_pho\n",
    "    tpho=article.xpath(xpath_pho)\n",
    "    pho=tpho[0]\n",
    "    \n",
    "    temp_tit=article.xpath(xpath_title)\n",
    "    tit=temp_tit[0]\n",
    "    \n",
    "    tmore=article.xpath(x_more)\n",
    "    if tmore!=[]:\n",
    "        past_more=tmore[0]+'-院级科研管理人员'\n",
    "    t['more']=past_more\n",
    "            \n",
    "    t['title'] = tit\n",
    "    t['phone']= [pho]\n",
    "    t['tot']='科学技术研究部'\n",
    "    t['num']=i+97\n",
    "    t['img']='none'\n",
    "    i=i+1\n",
    "    data1.append(t)\n",
    "\n",
    "#打印结果\n",
    "for t in data1:\n",
    "    print(t)\n",
    "print(len(data1))"
   ]
  },
  {
   "cell_type": "code",
   "execution_count": 1,
   "id": "e1d65b2e",
   "metadata": {},
   "outputs": [],
   "source": [
    "from elasticsearch.client import Elasticsearch\n",
    "es = Elasticsearch([{'host':'127.0.0.1','port':9200}], timeout=3600)"
   ]
  },
  {
   "cell_type": "code",
   "execution_count": 32,
   "id": "69459e87",
   "metadata": {},
   "outputs": [
    {
     "name": "stderr",
     "output_type": "stream",
     "text": [
      "<ipython-input-32-01b0ea12f652>:10: DeprecationWarning: The 'body' parameter is deprecated for the 'search' API and will be removed in a future version. Instead use API parameters directly. See https://github.com/elastic/elasticsearch-py/issues/1698 for more information\n",
      "  res2 = es.search(index=\"web1\", body=query,params=params)\n",
      "<ipython-input-32-01b0ea12f652>:33: DeprecationWarning: The 'body' parameter is deprecated for the 'search' API and will be removed in a future version. Instead use API parameters directly. See https://github.com/elastic/elasticsearch-py/issues/1698 for more information\n",
      "  res = es.search(index=\"web1\", body=query,params=params)\n"
     ]
    },
    {
     "name": "stdout",
     "output_type": "stream",
     "text": [
      "学校办公室\n",
      "党委宣传部\n",
      "工会委员会\n",
      "教务处\n",
      "党委统战部\n",
      "人事处\n",
      "科学技术研究部\n"
     ]
    }
   ],
   "source": [
    "na=\"闫彪\"\n",
    "ttit=\"学校办公室副主任\"\n",
    "ttot=\"学校办公室\"\n",
    "more=\"主任\"\n",
    "pho='none'\n",
    "query = {\"query\":{\"bool\":{\"must\":[ {\"match\":{\"name\" : na}},{\"match\":{\"title\" : ttit}},\n",
    "                  {\"match\":{\"tot\" : ttot}},{\"match\":{\"more\" : more}},{\"match\":{\"phone\" : pho}} ] }}}\n",
    "query = {\"query\": {\"match\":{\"name\" : na}}}\n",
    "params = {\"ignore_unavailable\": \"true\"}\n",
    "res2 = es.search(index=\"web1\", body=query,params=params)\n",
    "#print(res2)\n",
    "\n",
    "\n",
    "#for i in data1:\n",
    "#    res = es.index(index=\"web1\", id=i['num'], document=i)\n",
    "#res = es.index(index=\"web1\", id=67, document=m)\n",
    "#for i in range(1,134):\n",
    "#    res = es.get(index=\"web1\", id=i)\n",
    "#    data=res['_source']\n",
    "#    ph=''\n",
    "#    for pi in data['phone']:\n",
    "#        ph+=pi\n",
    "#        ph+='  '\n",
    "#    data['phone']=ph\n",
    "#    res = es.index(index=\"web1\", id=i, document=data)\n",
    "s=\"*服务*\"\n",
    "query = {\"query\":{\"bool\":{\"should\":[ {\"match\":{\"name\" : s}},{\"match\":{\"title\" : s}},\n",
    "                                                {\"match\":{\"tot\" : s}},{\"match\":{\"more\" : s}} ] }}}\n",
    "\n",
    "query = {\"query\":{\"bool\":{\"should\":[ {\"wildcard\":{\"name.keyword\" : s}},{\"wildcard\":{\"title.keyword\" : s}},\n",
    "                                                {\"wildcard\":{\"tot.keyword\" : s}},{\"wildcard\":{\"more.keyword\" : s}} ] }},\"size\":100}\n",
    "query = {\"query\": {\"bool\":{\"must\":[ {\"match\":{\"title\" : \"流动调配科\"}},{\"match\":{\"tot\" : ttot}} ] }},\"size\":  20}\n",
    "#query = {\"query\":{\"wildcard\":{\"title.keyword\":s}},\"size\":100}\n",
    "res = es.search(index=\"web1\", body=query,params=params)\n",
    "#for hit in res['hits']['hits']:\n",
    "#    print(hit['_source'])\n",
    "print(\"学校办公室\")\n",
    "for i in range(2,133):\n",
    "    res = es.get(index=\"web1\", id=i)\n",
    "    pres= es.get(index=\"web1\", id=i-1)\n",
    "    res=res['_source']\n",
    "    pres=pres['_source']\n",
    "    if res['tot']!=pres['tot']:\n",
    "        print(res['tot'])"
   ]
  },
  {
   "cell_type": "code",
   "execution_count": 35,
   "id": "4b6cc219",
   "metadata": {},
   "outputs": [
    {
     "name": "stdout",
     "output_type": "stream",
     "text": [
      "[<Element div at 0x252ed807b40>, <Element div at 0x252ed7e0340>, <Element div at 0x252ed82eec0>, <Element div at 0x252ed82ef80>, <Element div at 0x252ed82ea00>, <Element div at 0x252ed855f40>, <Element div at 0x252ed858280>, <Element div at 0x252ed858900>, <Element div at 0x252ed858a00>]\n"
     ]
    }
   ],
   "source": [
    "import chardet\n",
    "import urllib.request\n",
    "from lxml import etree\n",
    "import requests\n",
    "#xpath_items = '//div[@class=\"wp_entry\"]/div/div/table//tr'\n",
    "url2 = 'https://www.booking.com/reviews.zh-cn.html'\n",
    "r2 = requests.get(url2)\n",
    "r2.encoding = r2.apparent_encoding\n",
    "#r0=r2.text.encode('Windows-1254').decode('gbk')\n",
    "dom2 = etree.HTML(r2.text)\n",
    "#xpath2='//div[@class=\"rlp-main-section \"]'\n",
    "xpath2='//div[@class=\"rlp-main-section-hotel__subcontainer \"]'\n",
    "ite2=dom2.xpath(xpath2)\n",
    "print(ite2)"
   ]
  },
  {
   "cell_type": "code",
   "execution_count": 75,
   "id": "9c403adb",
   "metadata": {},
   "outputs": [
    {
     "name": "stdout",
     "output_type": "stream",
     "text": [
      "{'酒店名称': '丽江河丽漫艺术会所', '酒店地点': '丽江', '评价': '评分：10', '价格': '358元起'}\n",
      "{'酒店名称': '锦江都长沙开万达广场酒店', '酒店地点': '长沙', '评价': '评分：8.2', '价格': '341元起'}\n",
      "{'酒店名称': '暖暖', '酒店地点': '德清', '评价': '评分：9.2', '价格': '405元起'}\n",
      "{'酒店名称': '丽江金茂凯悦臻选酒店', '酒店地点': '丽江', '评价': '评分：8.6', '价格': '699元起'}\n",
      "{'酒店名称': '深圳游年旅馆', '酒店地点': '深圳', '评价': '评分：8.3', '价格': '106元起'}\n",
      "{'酒店名称': '暖暖', '酒店地点': '德清', '评价': '评分：9.2', '价格': '405元起'}\n",
      "{'酒店名称': '岛湖山国际年旅', '酒店地点': '淳安', '评价': '评分：8.7', '价格': '125元起'}\n",
      "{'酒店名称': '海土湾嘉佩度酒店', '酒店地点': '三亚', '评价': '评分：9', '价格': '2,888元起'}\n",
      "{'酒店名称': '泰兴温德姆酒店', '酒店地点': '中国', '评价': '评分：7', '价格': '360元起'}\n"
     ]
    }
   ],
   "source": [
    "#print(r2.encoding)\n",
    "#print(r2.apparent_encoding)\n",
    "#r2.encoding=r2.apparent_encoding\n",
    "#r2.text.encode('iso-8859-1').decode('gbk')\n",
    "xpath_name='.//a[@class=\"rlp-main-section-hotel__name\"]//text()'\n",
    "xpath_loc='.//a[@class=\"rlp-main-section-hotel__geo\"]//text()'\n",
    "xpath_sco='.//span[@class=\"rlp-main-section-hotel__score-txt\"]//text()'\n",
    "xpath_pri='//div[@class=\"rlp-main-section-hotel__thumb-container\"]/div/a/span/text()'\n",
    "\n",
    "a=[]\n",
    "for i in ite2:\n",
    "    t={}\n",
    "    name=i.xpath(xpath_name)\n",
    "    tname=''.join(name[0].split())\n",
    "    tname=tname.encode('Windows-1254',errors='ignore')\n",
    "    t['酒店名称']=tname.decode('utf-8',errors='ignore')#尝试了数十种编解码组合后终于找到了py3对1254字符集的处理方式\n",
    "    #不编解码一次的话是乱码\n",
    "    \n",
    "    location=i.xpath(xpath_loc)\n",
    "    tname=''.join(location[0].split())\n",
    "    tname=tname.encode('Windows-1254',errors='ignore')\n",
    "    t['酒店地点']=tname.decode('utf-8',errors='ignore')\n",
    "    \n",
    "    score=i.xpath(xpath_sco)\n",
    "    tname=''.join(score[0].split())\n",
    "    tname=tname.encode('Windows-1254',errors='ignore')\n",
    "    t['评价']=tname.decode('utf-8',errors='ignore')\n",
    "    \n",
    "    price=i.xpath(xpath_pri)\n",
    "    if price==[]:\n",
    "        price=['1']\n",
    "    t['价格']=tname.decode('utf-8',errors='ignore')+'起'\n",
    "    \n",
    "    a.append(t)\n",
    "\n",
    "ite2x=dom2.xpath(xpathx)\n",
    "for i in range(len(ite2x)):\n",
    "    tname=''.join(ite2x[i].split())\n",
    "    tname=tname.encode('Windows-1254',errors='ignore')\n",
    "    t=tname.decode('utf-8',errors='ignore')+'起'\n",
    "    a[i]['价格']=t\n",
    "    \n",
    "for i in a:\n",
    "    print(i)"
   ]
  },
  {
   "cell_type": "code",
   "execution_count": 71,
   "id": "4157395e",
   "metadata": {},
   "outputs": [
    {
     "name": "stdout",
     "output_type": "stream",
     "text": [
      "['358å…ƒ', '341å…ƒ', '405å…ƒ', '699å…ƒ', '106å…ƒ', '405å…ƒ', '125å…ƒ', '2,888å…ƒ', '360å…ƒ']\n"
     ]
    }
   ],
   "source": [
    "'\n",
    "\n",
    "\n",
    "print(ite2x)"
   ]
  },
  {
   "cell_type": "code",
   "execution_count": null,
   "id": "33db87c7",
   "metadata": {},
   "outputs": [],
   "source": [
    "#xpath_items = '//div[@class=\"wp_entry\"]/div/div/table//tr'\n",
    "#items = dom1.xpath(xpath_items)\n",
    "xpath_name= './/td[@width=\"153\"]//text()'\n",
    "xpath_title= './/td[@width=\"204\"]//text()'\n",
    "xpath_pho ='.//td[@width=\"180\"]//text()'\n",
    "x_more ='.//td[@width=\"239\"]//text()'\n",
    "#more_pa = './div//p//text()'\n",
    "#分别对每一个文章标签进行操作 将每篇文章的链接 标题 评论数 点赞数放到一个字典里\n",
    "data1 = []\n",
    "i=1\n",
    "past_title='none'\n",
    "tname='none'\n",
    "past_pho='none'\n",
    "past_more = 'none'\n",
    "for article in items:\n",
    "    t = {}\n",
    "    \n",
    "    name=article.xpath(xpath_name)\n",
    "    if name!=[]:\n",
    "        tname=''.join(name[0].split())\n",
    "    else:\n",
    "        tname='none'\n",
    "    t['name'] = tname\n",
    "    \n",
    "    pho=past_pho\n",
    "    tpho=article.xpath(xpath_pho)\n",
    "    pho=tpho[0]\n",
    "    \n",
    "    temp_tit=article.xpath(xpath_title)\n",
    "    tit=temp_tit[0]\n",
    "    \n",
    "    tmore=article.xpath(x_more)\n",
    "    if tmore!=[]:\n",
    "        past_more=tmore[0]+'-院级科研管理人员'\n",
    "    t['more']=past_more\n",
    "            \n",
    "    t['title'] = tit\n",
    "    t['phone']= [pho]\n",
    "    t['tot']='科学技术研究部'\n",
    "    t['num']=i+97\n",
    "    t['img']='none'\n",
    "    i=i+1\n",
    "    data1.append(t)\n",
    "\n",
    "#打印结果\n",
    "for t in data1:\n",
    "    print(t)\n",
    "print(len(data1))"
   ]
  }
 ],
 "metadata": {
  "kernelspec": {
   "display_name": "Python 3",
   "language": "python",
   "name": "python3"
  },
  "language_info": {
   "codemirror_mode": {
    "name": "ipython",
    "version": 3
   },
   "file_extension": ".py",
   "mimetype": "text/x-python",
   "name": "python",
   "nbconvert_exporter": "python",
   "pygments_lexer": "ipython3",
   "version": "3.8.8"
  }
 },
 "nbformat": 4,
 "nbformat_minor": 5
}
